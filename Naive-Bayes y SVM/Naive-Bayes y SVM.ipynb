{
 "cells": [
  {
   "cell_type": "markdown",
   "metadata": {
    "id": "hZEgkbl5-WLF"
   },
   "source": [
    "# Preprosesamiento"
   ]
  },
  {
   "cell_type": "markdown",
   "metadata": {
    "id": "cLGpUybEzCht"
   },
   "source": [
    "## Librerias"
   ]
  },
  {
   "cell_type": "code",
   "execution_count": 238,
   "metadata": {
    "id": "J0eOcU3IqPrY"
   },
   "outputs": [],
   "source": [
    "# Instalación de librerias\n",
    "\n",
    "import pandas as pd\n",
    "import numpy as np\n",
    "import sys\n",
    "from pandas_profiling import ProfileReport\n",
    "import seaborn as sns\n",
    "\n",
    "import re, string, unicodedata\n",
    "import inflect\n",
    "from nltk import word_tokenize, sent_tokenize\n",
    "from nltk.corpus import stopwords\n",
    "from nltk.stem import LancasterStemmer, WordNetLemmatizer\n",
    "from nltk.stem import PorterStemmer\n",
    "\n",
    "from sklearn.model_selection import train_test_split,GridSearchCV\n",
    "from sklearn.feature_extraction.text import TfidfVectorizer, CountVectorizer, HashingVectorizer\n",
    "from sklearn.pipeline import Pipeline, FeatureUnion\n",
    "from sklearn.svm import SVC\n",
    "from sklearn.ensemble import BaggingClassifier, RandomForestClassifier, AdaBoostClassifier\n",
    "from sklearn.naive_bayes import BernoulliNB, MultinomialNB\n",
    "from sklearn.metrics import classification_report, confusion_matrix, plot_precision_recall_curve, plot_confusion_matrix, precision_score, recall_score, f1_score, accuracy_score, ConfusionMatrixDisplay\n",
    "from sklearn.base import BaseEstimator, ClassifierMixin\n",
    "from sklearn.model_selection import GridSearchCV\n",
    "\n",
    "import matplotlib.pyplot as plt\n",
    "\n",
    "from tqdm import tqdm\n",
    "\n",
    "import nltk\n",
    "\n",
    "from ast import literal_eval\n",
    "from sklearn.feature_extraction.text import TfidfVectorizer"
   ]
  },
  {
   "cell_type": "markdown",
   "metadata": {
    "id": "S5O5CMnYzG2g"
   },
   "source": [
    "## Preparación de datos"
   ]
  },
  {
   "cell_type": "code",
   "execution_count": 2,
   "metadata": {
    "colab": {
     "base_uri": "https://localhost:8080/",
     "height": 206
    },
    "id": "PRZpA0v5zMn7",
    "outputId": "57d82c3d-061c-4c0a-b087-56597d75e9ee"
   },
   "outputs": [
    {
     "data": {
      "text/html": [
       "<div>\n",
       "<style scoped>\n",
       "    .dataframe tbody tr th:only-of-type {\n",
       "        vertical-align: middle;\n",
       "    }\n",
       "\n",
       "    .dataframe tbody tr th {\n",
       "        vertical-align: top;\n",
       "    }\n",
       "\n",
       "    .dataframe thead th {\n",
       "        text-align: right;\n",
       "    }\n",
       "</style>\n",
       "<table border=\"1\" class=\"dataframe\">\n",
       "  <thead>\n",
       "    <tr style=\"text-align: right;\">\n",
       "      <th></th>\n",
       "      <th>id</th>\n",
       "      <th>text</th>\n",
       "      <th>class</th>\n",
       "      <th>words</th>\n",
       "    </tr>\n",
       "  </thead>\n",
       "  <tbody>\n",
       "    <tr>\n",
       "      <th>0</th>\n",
       "      <td>173271</td>\n",
       "      <td>want destroy myselffor everyth start feel okay...</td>\n",
       "      <td>suicide</td>\n",
       "      <td>['want', 'destroy', 'myselffor', 'everyth', 's...</td>\n",
       "    </tr>\n",
       "    <tr>\n",
       "      <th>1</th>\n",
       "      <td>336321</td>\n",
       "      <td>kind got behind schedul learn next week testwe...</td>\n",
       "      <td>non-suicide</td>\n",
       "      <td>['kind', 'got', 'behind', 'schedul', 'learn', ...</td>\n",
       "    </tr>\n",
       "    <tr>\n",
       "      <th>2</th>\n",
       "      <td>256637</td>\n",
       "      <td>sure anymorefirst foremost brazil judg second ...</td>\n",
       "      <td>suicide</td>\n",
       "      <td>['sure', 'anymorefirst', 'foremost', 'brazil',...</td>\n",
       "    </tr>\n",
       "    <tr>\n",
       "      <th>3</th>\n",
       "      <td>303772</td>\n",
       "      <td>pleas give reason livethat much reason live li...</td>\n",
       "      <td>suicide</td>\n",
       "      <td>['pleas', 'give', 'reason', 'livethat', 'much'...</td>\n",
       "    </tr>\n",
       "    <tr>\n",
       "      <th>4</th>\n",
       "      <td>293747</td>\n",
       "      <td>27f struggl find mean move forwardi admit bit ...</td>\n",
       "      <td>suicide</td>\n",
       "      <td>['27f', 'struggl', 'find', 'mean', 'move', 'fo...</td>\n",
       "    </tr>\n",
       "  </tbody>\n",
       "</table>\n",
       "</div>"
      ],
      "text/plain": [
       "       id                                               text        class  \\\n",
       "0  173271  want destroy myselffor everyth start feel okay...      suicide   \n",
       "1  336321  kind got behind schedul learn next week testwe...  non-suicide   \n",
       "2  256637  sure anymorefirst foremost brazil judg second ...      suicide   \n",
       "3  303772  pleas give reason livethat much reason live li...      suicide   \n",
       "4  293747  27f struggl find mean move forwardi admit bit ...      suicide   \n",
       "\n",
       "                                               words  \n",
       "0  ['want', 'destroy', 'myselffor', 'everyth', 's...  \n",
       "1  ['kind', 'got', 'behind', 'schedul', 'learn', ...  \n",
       "2  ['sure', 'anymorefirst', 'foremost', 'brazil',...  \n",
       "3  ['pleas', 'give', 'reason', 'livethat', 'much'...  \n",
       "4  ['27f', 'struggl', 'find', 'mean', 'move', 'fo...  "
      ]
     },
     "execution_count": 2,
     "metadata": {},
     "output_type": "execute_result"
    }
   ],
   "source": [
    "# Leer archivo de datos con texto normalizado\n",
    "\n",
    "data_normalized_text = pd.read_csv('DatosSuicidio/DatosTextoNormalizado.csv', sep=',', encoding = 'utf-8', index_col = 0)\n",
    "\n",
    "data_normalized_text.head()"
   ]
  },
  {
   "cell_type": "code",
   "execution_count": 3,
   "metadata": {
    "id": "Y1yNShuS4rmJ"
   },
   "outputs": [
    {
     "data": {
      "text/html": [
       "<div>\n",
       "<style scoped>\n",
       "    .dataframe tbody tr th:only-of-type {\n",
       "        vertical-align: middle;\n",
       "    }\n",
       "\n",
       "    .dataframe tbody tr th {\n",
       "        vertical-align: top;\n",
       "    }\n",
       "\n",
       "    .dataframe thead th {\n",
       "        text-align: right;\n",
       "    }\n",
       "</style>\n",
       "<table border=\"1\" class=\"dataframe\">\n",
       "  <thead>\n",
       "    <tr style=\"text-align: right;\">\n",
       "      <th></th>\n",
       "      <th>id</th>\n",
       "      <th>text</th>\n",
       "      <th>class</th>\n",
       "      <th>words</th>\n",
       "    </tr>\n",
       "  </thead>\n",
       "  <tbody>\n",
       "    <tr>\n",
       "      <th>0</th>\n",
       "      <td>173271</td>\n",
       "      <td>want destroy myselffor everyth start feel okay...</td>\n",
       "      <td>suicide</td>\n",
       "      <td>[want, destroy, myselffor, everyth, start, fee...</td>\n",
       "    </tr>\n",
       "    <tr>\n",
       "      <th>1</th>\n",
       "      <td>336321</td>\n",
       "      <td>kind got behind schedul learn next week testwe...</td>\n",
       "      <td>non-suicide</td>\n",
       "      <td>[kind, got, behind, schedul, learn, next, week...</td>\n",
       "    </tr>\n",
       "    <tr>\n",
       "      <th>2</th>\n",
       "      <td>256637</td>\n",
       "      <td>sure anymorefirst foremost brazil judg second ...</td>\n",
       "      <td>suicide</td>\n",
       "      <td>[sure, anymorefirst, foremost, brazil, judg, s...</td>\n",
       "    </tr>\n",
       "    <tr>\n",
       "      <th>3</th>\n",
       "      <td>303772</td>\n",
       "      <td>pleas give reason livethat much reason live li...</td>\n",
       "      <td>suicide</td>\n",
       "      <td>[pleas, give, reason, livethat, much, reason, ...</td>\n",
       "    </tr>\n",
       "    <tr>\n",
       "      <th>4</th>\n",
       "      <td>293747</td>\n",
       "      <td>27f struggl find mean move forwardi admit bit ...</td>\n",
       "      <td>suicide</td>\n",
       "      <td>[27f, struggl, find, mean, move, forwardi, adm...</td>\n",
       "    </tr>\n",
       "  </tbody>\n",
       "</table>\n",
       "</div>"
      ],
      "text/plain": [
       "       id                                               text        class  \\\n",
       "0  173271  want destroy myselffor everyth start feel okay...      suicide   \n",
       "1  336321  kind got behind schedul learn next week testwe...  non-suicide   \n",
       "2  256637  sure anymorefirst foremost brazil judg second ...      suicide   \n",
       "3  303772  pleas give reason livethat much reason live li...      suicide   \n",
       "4  293747  27f struggl find mean move forwardi admit bit ...      suicide   \n",
       "\n",
       "                                               words  \n",
       "0  [want, destroy, myselffor, everyth, start, fee...  \n",
       "1  [kind, got, behind, schedul, learn, next, week...  \n",
       "2  [sure, anymorefirst, foremost, brazil, judg, s...  \n",
       "3  [pleas, give, reason, livethat, much, reason, ...  \n",
       "4  [27f, struggl, find, mean, move, forwardi, adm...  "
      ]
     },
     "execution_count": 3,
     "metadata": {},
     "output_type": "execute_result"
    }
   ],
   "source": [
    "data_normalized_text['words'] = data_normalized_text['words'].apply(literal_eval)\n",
    "data_normalized_text.head()"
   ]
  },
  {
   "cell_type": "code",
   "execution_count": 4,
   "metadata": {
    "id": "nA03QysizT_h"
   },
   "outputs": [],
   "source": [
    "data_normalized_text = data_normalized_text.dropna()"
   ]
  },
  {
   "cell_type": "code",
   "execution_count": 5,
   "metadata": {
    "id": "-b2WOikqzYyF"
   },
   "outputs": [
    {
     "data": {
      "text/plain": [
       "0         1\n",
       "1         0\n",
       "2         1\n",
       "3         1\n",
       "4         1\n",
       "         ..\n",
       "195695    0\n",
       "195696    0\n",
       "195697    0\n",
       "195698    0\n",
       "195699    1\n",
       "Name: class, Length: 195668, dtype: int64"
      ]
     },
     "execution_count": 5,
     "metadata": {},
     "output_type": "execute_result"
    }
   ],
   "source": [
    "X_data, y_data = data_normalized_text['text'],data_normalized_text['class']\n",
    "y_data = (y_data == 'suicide').astype(int)\n",
    "y_data"
   ]
  },
  {
   "cell_type": "code",
   "execution_count": 6,
   "metadata": {
    "id": "VWvL0OlPzojn"
   },
   "outputs": [
    {
     "name": "stdout",
     "output_type": "stream",
     "text": [
      "(195668, 25662)\n"
     ]
    }
   ],
   "source": [
    "tfidf = TfidfVectorizer(min_df = 10, max_df =0.5)\n",
    "X_tf_idf = tfidf.fit_transform(X_data)\n",
    "print(X_tf_idf.shape)"
   ]
  },
  {
   "cell_type": "code",
   "execution_count": 12,
   "metadata": {
    "id": "EK4i00Bqzytf"
   },
   "outputs": [
    {
     "data": {
      "text/plain": [
       "array([[0., 0., 0., ..., 0., 0., 0.]])"
      ]
     },
     "execution_count": 12,
     "metadata": {},
     "output_type": "execute_result"
    }
   ],
   "source": [
    "X_tf_idf[0].toarray()"
   ]
  },
  {
   "cell_type": "code",
   "execution_count": 8,
   "metadata": {
    "id": "-dJ7_6Qd_6TN"
   },
   "outputs": [
    {
     "data": {
      "text/plain": [
       "{'want': 24816,\n",
       " 'destroy': 6493,\n",
       " 'myselffor': 15077,\n",
       " 'everyth': 8278,\n",
       " 'start': 21530,\n",
       " 'feel': 8869,\n",
       " 'okay': 15846,\n",
       " 'came': 3806,\n",
       " 'tumbl': 23492,\n",
       " 'know': 13013,\n",
       " 'use': 24327,\n",
       " 'cope': 5320,\n",
       " 'reason': 18403,\n",
       " 'tear': 22484,\n",
       " 'skin': 20684,\n",
       " 'shred': 20449,\n",
       " 'swallow': 22231,\n",
       " 'everi': 8260,\n",
       " 'pill': 16965,\n",
       " 'find': 9042,\n",
       " 'right': 19285,\n",
       " 'alon': 1529,\n",
       " 'room': 19421,\n",
       " 'wall': 24784,\n",
       " 'slowli': 20811,\n",
       " 'fall': 8697,\n",
       " 'matter': 14137,\n",
       " 'time': 22919,\n",
       " 'snap': 20896,\n",
       " 'final': 9026,\n",
       " 'end': 7921,\n",
       " 'everything': 8280,\n",
       " 'starting': 21533,\n",
       " 'tumbling': 23494,\n",
       " 'used': 24328,\n",
       " 'tearing': 22488,\n",
       " 'swallowing': 22233,\n",
       " 'every': 8268,\n",
       " 'alone': 1530,\n",
       " 'slowly': 20812,\n",
       " 'falling': 8703,\n",
       " 'finally': 9032,\n",
       " 'kind': 12956,\n",
       " 'got': 10186,\n",
       " 'behind': 2863,\n",
       " 'schedul': 19774,\n",
       " 'learn': 13210,\n",
       " 'next': 15354,\n",
       " 'week': 24965,\n",
       " 'eight': 7683,\n",
       " 'test': 22630,\n",
       " 'four': 9447,\n",
       " 'alreadi': 1547,\n",
       " 'studi': 21841,\n",
       " 'two': 23562,\n",
       " 'good': 10137,\n",
       " 'minim': 14550,\n",
       " 'anyth': 1900,\n",
       " 'yet': 25548,\n",
       " 'still': 21646,\n",
       " 'three': 22822,\n",
       " 'day': 5971,\n",
       " 'option': 15997,\n",
       " 'pull': 17962,\n",
       " 'nighter': 15395,\n",
       " 'tell': 22533,\n",
       " 'parent': 16467,\n",
       " 'freak': 9492,\n",
       " 'possibl': 17342,\n",
       " 'super': 22094,\n",
       " 'hard': 10653,\n",
       " 'schedule': 19775,\n",
       " 'learning': 13213,\n",
       " 'already': 1548,\n",
       " 'studied': 21842,\n",
       " 'minimal': 14551,\n",
       " 'anything': 1901,\n",
       " 'nighters': 15396,\n",
       " 'possible': 17343,\n",
       " 'sure': 22150,\n",
       " 'anymorefirst': 1870,\n",
       " 'foremost': 9351,\n",
       " 'brazil': 3445,\n",
       " 'judg': 12783,\n",
       " 'second': 19928,\n",
       " 'never': 15333,\n",
       " 'went': 25032,\n",
       " 'doctor': 7104,\n",
       " 'see': 19962,\n",
       " 'realli': 18385,\n",
       " 'form': 9388,\n",
       " 'depress': 6387,\n",
       " 'think': 22752,\n",
       " 'whatev': 25047,\n",
       " 'care': 3896,\n",
       " 'anymor': 1859,\n",
       " 'thing': 22747,\n",
       " 'someday': 21078,\n",
       " 'make': 13913,\n",
       " 'avoid': 2455,\n",
       " 'suicid': 22011,\n",
       " 'fear': 8833,\n",
       " 'come': 4749,\n",
       " 'thank': 22667,\n",
       " 'anxieti': 1842,\n",
       " 'cool': 5299,\n",
       " 'scare': 19749,\n",
       " 'recent': 18448,\n",
       " 'read': 18351,\n",
       " 'random': 18256,\n",
       " 'shit': 20352,\n",
       " 'nihil': 15409,\n",
       " 'agre': 1341,\n",
       " 'argument': 2075,\n",
       " 'life': 13366,\n",
       " 'mean': 14184,\n",
       " 'like': 13433,\n",
       " 'sinc': 20593,\n",
       " '10': 38,\n",
       " '17': 237,\n",
       " 'sometim': 21095,\n",
       " 'fuck': 9631,\n",
       " 'peopl': 16702,\n",
       " 'around': 2101,\n",
       " 'constantli': 5144,\n",
       " 'hide': 10991,\n",
       " 'dark': 5939,\n",
       " 'though': 22798,\n",
       " 'mind': 14526,\n",
       " 'joke': 12744,\n",
       " 'believ': 2875,\n",
       " 'die': 6635,\n",
       " 'sleep': 20750,\n",
       " 'worst': 25365,\n",
       " 'year': 25510,\n",
       " 'honestli': 11167,\n",
       " 'ps': 17883,\n",
       " 'talk': 22389,\n",
       " 'famili': 8711,\n",
       " 'hate': 10713,\n",
       " 'guy': 10485,\n",
       " 'take': 22377,\n",
       " 'put': 18052,\n",
       " 'unfinish': 23900,\n",
       " 'dream': 7328,\n",
       " 'trophi': 23419,\n",
       " 'almost': 1527,\n",
       " 'judge': 12784,\n",
       " 'really': 18390,\n",
       " 'depression': 6395,\n",
       " 'whatever': 25048,\n",
       " 'anymore': 1860,\n",
       " 'somedays': 21079,\n",
       " 'suicide': 22025,\n",
       " 'coming': 4769,\n",
       " 'anxiety': 1843,\n",
       " 'recently': 18449,\n",
       " 'started': 21531,\n",
       " 'study': 21844,\n",
       " 'reading': 18358,\n",
       " 'nihilism': 15410,\n",
       " 'agree': 1342,\n",
       " 'meaning': 14190,\n",
       " 'since': 20594,\n",
       " 'sometimes': 21097,\n",
       " 'fucking': 9648,\n",
       " 'people': 16703,\n",
       " 'constantly': 5145,\n",
       " 'using': 24339,\n",
       " 'thoughs': 22800,\n",
       " 'believe': 2877,\n",
       " 'honestly': 11168,\n",
       " 'family': 8717,\n",
       " 'taking': 22384,\n",
       " 'unfinished': 23901,\n",
       " 'trophy': 23420,\n",
       " 'pleas': 17108,\n",
       " 'give': 10020,\n",
       " 'much': 14956,\n",
       " 'live': 13530,\n",
       " 'alway': 1578,\n",
       " 'inferior': 12000,\n",
       " 'anyon': 1895,\n",
       " 'search': 19908,\n",
       " 'third': 22761,\n",
       " 'world': 25339,\n",
       " 'countri': 5441,\n",
       " 'poor': 17267,\n",
       " 'broken': 3524,\n",
       " 'home': 11124,\n",
       " 'child': 4275,\n",
       " 'friend': 9561,\n",
       " 'problem': 17670,\n",
       " 'shitti': 20375,\n",
       " 'advic': 1217,\n",
       " 'religi': 18794,\n",
       " 'bullshit': 3630,\n",
       " 'better': 2959,\n",
       " 'kill': 12942,\n",
       " 'get': 9964,\n",
       " 'contribut': 5232,\n",
       " 'societi': 21009,\n",
       " 'futur': 9754,\n",
       " 'horribl': 11226,\n",
       " 'nobodi': 15440,\n",
       " 'love': 13719,\n",
       " 'stupid': 21865,\n",
       " 'asoci': 2190,\n",
       " 'ugli': 23611,\n",
       " 'least': 13219,\n",
       " 'lessen': 13291,\n",
       " 'mom': 14766,\n",
       " 'suffer': 21979,\n",
       " 'natur': 15184,\n",
       " 'fed': 8856,\n",
       " 'failur': 8671,\n",
       " 'parasit': 16462,\n",
       " 'sorri': 21152,\n",
       " 'grammar': 10231,\n",
       " 'english': 7982,\n",
       " 'first': 9087,\n",
       " 'languag': 13104,\n",
       " 'head': 10755,\n",
       " 'death': 6034,\n",
       " 'please': 17112,\n",
       " 'always': 1579,\n",
       " 'anyone': 1896,\n",
       " 'country': 5442,\n",
       " 'depressed': 6389,\n",
       " 'shitty': 20381,\n",
       " 'advice': 1218,\n",
       " 'religious': 18796,\n",
       " 'thinking': 22756,\n",
       " 'contribution': 5237,\n",
       " 'society': 21010,\n",
       " 'future': 9756,\n",
       " 'horrible': 11227,\n",
       " 'nobody': 15441,\n",
       " 'asocial': 2191,\n",
       " 'ugly': 23615,\n",
       " 'suffering': 21983,\n",
       " 'nature': 15187,\n",
       " 'failure': 8672,\n",
       " 'parasite': 16463,\n",
       " 'sorry': 21154,\n",
       " 'language': 13105,\n",
       " '27f': 496,\n",
       " 'struggl': 21824,\n",
       " 'move': 14936,\n",
       " 'forwardi': 9433,\n",
       " 'admit': 1167,\n",
       " 'bit': 3074,\n",
       " 'long': 13626,\n",
       " 'rant': 18269,\n",
       " 'manag': 13948,\n",
       " 'appreci': 1998,\n",
       " 'anyway': 1907,\n",
       " 'quit': 18139,\n",
       " 'includ': 11823,\n",
       " 'ask': 2179,\n",
       " 'truli': 23447,\n",
       " 'morn': 14861,\n",
       " 'albeit': 1422,\n",
       " 'corni': 5346,\n",
       " 'answer': 1787,\n",
       " 'pursu': 18033,\n",
       " 'career': 3898,\n",
       " 'write': 25415,\n",
       " 'idea': 11491,\n",
       " 'girl': 10005,\n",
       " 'high': 11000,\n",
       " 'school': 19790,\n",
       " 'decid': 6083,\n",
       " 'go': 10091,\n",
       " 'one': 15894,\n",
       " 'true': 23443,\n",
       " 'earn': 7535,\n",
       " 'degre': 6215,\n",
       " 'post': 17346,\n",
       " 'work': 25319,\n",
       " 'onlin': 15909,\n",
       " 'margin': 14029,\n",
       " 'success': 21950,\n",
       " 'graduat': 10221,\n",
       " 'averag': 2446,\n",
       " 'littl': 13525,\n",
       " '10000': 41,\n",
       " 'project': 17752,\n",
       " 'freelanc': 9509,\n",
       " 'pandem': 16399,\n",
       " 'hit': 11074,\n",
       " 'incom': 11834,\n",
       " 'complet': 4885,\n",
       " 'fizzl': 9121,\n",
       " 'hire': 11059,\n",
       " 'june': 12815,\n",
       " 'meet': 14255,\n",
       " 'fatigu': 8803,\n",
       " 'march': 14023,\n",
       " 'forward': 9431,\n",
       " 'wonder': 25286,\n",
       " 'heck': 10832,\n",
       " 'even': 8245,\n",
       " 'left': 13238,\n",
       " 'whole': 25119,\n",
       " 'subsid': 21919,\n",
       " 'made': 13856,\n",
       " 'decis': 6092,\n",
       " 'month': 14817,\n",
       " 'ago': 1330,\n",
       " 'appli': 1983,\n",
       " 'regular': 18692,\n",
       " 'old': 15856,\n",
       " '95': 818,\n",
       " 'job': 12724,\n",
       " 'crush': 5704,\n",
       " 'dislik': 6906,\n",
       " 'purpos': 18023,\n",
       " '80': 779,\n",
       " 'hour': 11278,\n",
       " 'pour': 17383,\n",
       " 'soul': 21164,\n",
       " 'imagin': 11595,\n",
       " 'releg': 18767,\n",
       " 'side': 20503,\n",
       " 'may': 14156,\n",
       " 'energi': 7961,\n",
       " 'depend': 6342,\n",
       " 'land': 13093,\n",
       " 'unfortun': 23918,\n",
       " 'less': 13290,\n",
       " 'date': 5956,\n",
       " 'social': 20994,\n",
       " 'gay': 9869,\n",
       " 'harder': 10658,\n",
       " 'also': 1555,\n",
       " 'tri': 23362,\n",
       " 'explain': 8509,\n",
       " 'financi': 9037,\n",
       " 'stabl': 21456,\n",
       " 'needless': 15250,\n",
       " 'say': 19723,\n",
       " 'found': 9440,\n",
       " 'probabl': 17660,\n",
       " 'childish': 4280,\n",
       " 'guilti': 10446,\n",
       " 'essenti': 8175,\n",
       " 'enough': 8012,\n",
       " 'realiti': 18375,\n",
       " 'bare': 2661,\n",
       " 'function': 9695,\n",
       " 'new': 15339,\n",
       " 'either': 7693,\n",
       " 'howev': 11298,\n",
       " 'quickli': 18125,\n",
       " 'wake': 24775,\n",
       " 'lukewarm': 13784,\n",
       " 'slog': 20798,\n",
       " 'apart': 1921,\n",
       " 'bed': 2808,\n",
       " 'need': 15241,\n",
       " 'actual': 1090,\n",
       " 'control': 5241,\n",
       " 'suck': 21967,\n",
       " 'abyss': 943,\n",
       " 'faster': 8787,\n",
       " 'handl': 10592,\n",
       " 'struggling': 21827,\n",
       " 'moving': 14941,\n",
       " 'manages': 13954,\n",
       " 'appreciate': 1999,\n",
       " 'quite': 18140,\n",
       " 'including': 11827,\n",
       " 'loving': 13733,\n",
       " 'truly': 23450,\n",
       " 'morning': 14862,\n",
       " 'corny': 5347,\n",
       " 'pursuing': 18036,\n",
       " 'writing': 25420,\n",
       " 'decided': 6085,\n",
       " 'going': 10121,\n",
       " 'earned': 7536,\n",
       " 'degree': 6216,\n",
       " 'posting': 17354,\n",
       " 'online': 15910,\n",
       " 'marginally': 14032,\n",
       " 'successful': 21951,\n",
       " 'graduated': 10223,\n",
       " 'little': 13526,\n",
       " 'freelance': 9510,\n",
       " 'pandemic': 16400,\n",
       " 'income': 11835,\n",
       " 'completely': 4888,\n",
       " 'hired': 11060,\n",
       " 'living': 13545,\n",
       " 'getting': 9968,\n",
       " 'fatigued': 8805,\n",
       " 'marching': 14025,\n",
       " 'wondering': 25290,\n",
       " 'subsides': 21922,\n",
       " 'decision': 6093,\n",
       " 'applying': 1993,\n",
       " 'crushing': 5706,\n",
       " 'dislike': 6907,\n",
       " 'giving': 10026,\n",
       " 'purpose': 18024,\n",
       " 'worked': 25323,\n",
       " 'poured': 17384,\n",
       " 'imagine': 11600,\n",
       " 'energy': 7963,\n",
       " 'depending': 6349,\n",
       " 'unfortunately': 23920,\n",
       " 'le': 13191,\n",
       " 'dating': 5959,\n",
       " 'trying': 23468,\n",
       " 'financially': 9039,\n",
       " 'stable': 21457,\n",
       " 'needle': 15249,\n",
       " 'probably': 17662,\n",
       " 'guilty': 10450,\n",
       " 'essential': 8176,\n",
       " 'reality': 18376,\n",
       " 'barely': 2663,\n",
       " 'functioning': 9699,\n",
       " 'imagining': 11603,\n",
       " 'wanted': 24817,\n",
       " 'however': 11299,\n",
       " 'quickly': 18126,\n",
       " 'feared': 8834,\n",
       " 'waking': 24777,\n",
       " 'apartment': 1923,\n",
       " 'actually': 1093,\n",
       " 'sucked': 21968,\n",
       " 'handle': 10593,\n",
       " 'let': 13296,\n",
       " 'us': 24321,\n",
       " 'bread': 3450,\n",
       " 'bakeri': 2592,\n",
       " 'store': 21711,\n",
       " 'bakery': 2593,\n",
       " '126': 127,\n",
       " 'fun': 9694,\n",
       " 'fact': 8648,\n",
       " 'everyday': 8272,\n",
       " 'forget': 9371,\n",
       " 'bore': 3329,\n",
       " 'fell': 8879,\n",
       " 'tunnel': 23505,\n",
       " 'center': 4069,\n",
       " 'earth': 7547,\n",
       " 'would': 25379,\n",
       " '42': 636,\n",
       " 'minut': 14576,\n",
       " 'trip': 23399,\n",
       " 'planet': 17055,\n",
       " 'reach': 18340,\n",
       " 'maximum': 14154,\n",
       " 'speed': 21266,\n",
       " 'mph': 14947,\n",
       " 'halfway': 10547,\n",
       " 'nice': 15366,\n",
       " 'bored': 3330,\n",
       " 'minute': 14577,\n",
       " 'complete': 4886,\n",
       " 'brother': 3540,\n",
       " 'self': 20002,\n",
       " 'mutil': 15044,\n",
       " 'help': 10875,\n",
       " '15': 186,\n",
       " 'older': 15857,\n",
       " 'past': 16540,\n",
       " 'deal': 6024,\n",
       " 'termin': 22593,\n",
       " 'ill': 11569,\n",
       " 'father': 8800,\n",
       " 'wit': 25243,\n",
       " 'lot': 13695,\n",
       " 'flame': 9145,\n",
       " 'difficulti': 6675,\n",
       " 'situat': 20642,\n",
       " 'dad': 5879,\n",
       " 'diagnos': 6592,\n",
       " 'age': 1304,\n",
       " 'way': 24904,\n",
       " 'easier': 7559,\n",
       " 'seriou': 20173,\n",
       " 'matur': 14143,\n",
       " 'younger': 25584,\n",
       " 'fought': 9438,\n",
       " 'often': 15831,\n",
       " 'physic': 16917,\n",
       " 'intens': 12259,\n",
       " 'punch': 17982,\n",
       " 'face': 8628,\n",
       " 'bleed': 3144,\n",
       " 'serious': 20174,\n",
       " 'injur': 12097,\n",
       " 'part': 16486,\n",
       " 'short': 20407,\n",
       " 'temper': 22542,\n",
       " 'fix': 9109,\n",
       " 'involuntari': 12452,\n",
       " 'screw': 19873,\n",
       " 'sever': 20210,\n",
       " 'adhd': 1134,\n",
       " 'kid': 12930,\n",
       " 'someth': 21089,\n",
       " 'pick': 16932,\n",
       " 'call': 3779,\n",
       " 'yell': 25534,\n",
       " 'back': 2527,\n",
       " 'sick': 20488,\n",
       " 'accept': 959,\n",
       " 'someon': 21084,\n",
       " 'flunk': 9259,\n",
       " 'twice': 23544,\n",
       " 'everyon': 8275,\n",
       " 'similar': 20559,\n",
       " 'experi': 8487,\n",
       " 'took': 23096,\n",
       " 'comedi': 4752,\n",
       " 'mask': 14079,\n",
       " 'singl': 20605,\n",
       " 'insecur': 12143,\n",
       " 'cut': 5831,\n",
       " 'razor': 18328,\n",
       " 'blade': 3115,\n",
       " 'stop': 21702,\n",
       " 'therapist': 22714,\n",
       " 'inner': 12116,\n",
       " 'thigh': 22744,\n",
       " 'stomach': 21686,\n",
       " 'accord': 995,\n",
       " 'mother': 14890,\n",
       " 'clue': 4581,\n",
       " 'approach': 2011,\n",
       " 'subtl': 21932,\n",
       " 'hint': 11049,\n",
       " 'look': 13650,\n",
       " 'valid': 24401,\n",
       " 'narcissist': 15153,\n",
       " 'piec': 16949,\n",
       " 'legitim': 13262,\n",
       " 'fault': 8810,\n",
       " 'fight': 8966,\n",
       " 'excel': 8352,\n",
       " 'educ': 7629,\n",
       " 'wish': 25238,\n",
       " 'amp': 1647,\n",
       " 'x200b': 25458,\n",
       " 'mutilating': 15047,\n",
       " 'dealing': 6027,\n",
       " 'terminally': 22595,\n",
       " 'witnessed': 25265,\n",
       " 'financial': 9038,\n",
       " 'difficulty': 6676,\n",
       " 'witness': 25264,\n",
       " 'situation': 20644,\n",
       " 'diagnosed': 6594,\n",
       " 'mature': 14144,\n",
       " 'physical': 16918,\n",
       " 'intense': 12260,\n",
       " 'punched': 17983,\n",
       " 'bleeding': 3145,\n",
       " 'seriously': 20175,\n",
       " 'injured': 12099,\n",
       " 'physically': 16919,\n",
       " 'involuntary': 12455,\n",
       " 'severe': 20213,\n",
       " 'something': 21091,\n",
       " 'picking': 16937,\n",
       " 'scared': 19750,\n",
       " 'someone': 21085,\n",
       " 'flunked': 9260,\n",
       " 'everyone': 8276,\n",
       " 'experience': 8489,\n",
       " 'liked': 13436,\n",
       " 'comedy': 4756,\n",
       " 'single': 20606,\n",
       " 'insecurity': 12145,\n",
       " 'cutting': 5844,\n",
       " 'stopped': 21707,\n",
       " 'seeing': 19965,\n",
       " 'according': 997,\n",
       " 'subtle': 21933,\n",
       " 'looking': 13653,\n",
       " 'validation': 24405,\n",
       " 'narcissistic': 15154,\n",
       " 'piece': 16950,\n",
       " 'legitimately': 13266,\n",
       " 'excellent': 8354,\n",
       " 'education': 7633,\n",
       " 'women': 25285,\n",
       " 'group': 10384,\n",
       " 'washroom': 24866,\n",
       " 'hey': 10973,\n",
       " 'watch': 24878,\n",
       " 'coupl': 5447,\n",
       " 'vine': 24612,\n",
       " 'nostalg': 15540,\n",
       " 'across': 1075,\n",
       " 'togeth': 23033,\n",
       " 'particular': 16501,\n",
       " 'curiou': 5791,\n",
       " 'excus': 8399,\n",
       " 'sort': 21156,\n",
       " 'privat': 17646,\n",
       " 'hurt': 11390,\n",
       " 'question': 18108,\n",
       " 'woman': 25282,\n",
       " 'watching': 24881,\n",
       " 'couple': 5448,\n",
       " 'nostalgic': 15542,\n",
       " 'together': 23034,\n",
       " 'curious': 5792,\n",
       " 'excuse': 8400,\n",
       " 'private': 17647,\n",
       " 'hurtful': 11392,\n",
       " 'pride': 17607,\n",
       " 'ahhhh': 1363,\n",
       " 'ahhhhh': 1364,\n",
       " 'forgot': 9384,\n",
       " 'weekend': 24967,\n",
       " 'crap': 5527,\n",
       " 'damn': 5904,\n",
       " 'bust': 3700,\n",
       " 'ah': 1353,\n",
       " 'shite': 20356,\n",
       " 'said': 19605,\n",
       " 'clit': 4543,\n",
       " 'instead': 12200,\n",
       " 'cock': 4617,\n",
       " 'bulli': 3626,\n",
       " 'lol': 13606,\n",
       " 'bullying': 3634,\n",
       " 'coffe': 4643,\n",
       " 'caffein': 3755,\n",
       " 'starbuck': 21521,\n",
       " 'grand': 10237,\n",
       " 'ice': 11473,\n",
       " 'venti': 24498,\n",
       " 'cup': 5775,\n",
       " 'extra': 8576,\n",
       " 'caramel': 3885,\n",
       " 'syrup': 22336,\n",
       " 'vanilla': 24426,\n",
       " 'classic': 4469,\n",
       " 'boom': 3305,\n",
       " 'sweet': 22264,\n",
       " 'basic': 2703,\n",
       " 'sugar': 21997,\n",
       " 'tast': 22440,\n",
       " 'amaz': 1590,\n",
       " 'welcom': 25001,\n",
       " 'coffee': 4644,\n",
       " 'caffeine': 3757,\n",
       " 'try': 23463,\n",
       " 'starbucks': 21522,\n",
       " 'grande': 10244,\n",
       " 'iced': 11476,\n",
       " 'sweetness': 22271,\n",
       " 'basically': 2705,\n",
       " 'taste': 22441,\n",
       " 'amazing': 1593,\n",
       " 'welcome': 25002,\n",
       " 'gener': 9898,\n",
       " 'kenobi': 12903,\n",
       " 'hello': 10869,\n",
       " 'comment': 4783,\n",
       " 'award': 2473,\n",
       " 'gotten': 10192,\n",
       " 'general': 9899,\n",
       " 'saying': 19727,\n",
       " 'passiv': 16533,\n",
       " 'suicidali': 22016,\n",
       " 'sound': 21171,\n",
       " 'dramat': 7309,\n",
       " 'pretti': 17581,\n",
       " 'whenev': 25065,\n",
       " 'rang': 18261,\n",
       " 'method': 14406,\n",
       " 'imag': 11591,\n",
       " 'dead': 6005,\n",
       " 'variou': 24449,\n",
       " 'caus': 4009,\n",
       " 'plan': 17052,\n",
       " 'place': 17032,\n",
       " 'current': 5800,\n",
       " 'carri': 3929,\n",
       " 'anytim': 1904,\n",
       " 'soon': 21118,\n",
       " 'keep': 12892,\n",
       " 'pocket': 17179,\n",
       " 'ideat': 11501,\n",
       " 'becom': 2797,\n",
       " 'hospit': 11246,\n",
       " 'certain': 4089,\n",
       " 'burden': 3659,\n",
       " 'aliv': 1465,\n",
       " 'usual': 24346,\n",
       " 'big': 3005,\n",
       " 'pain': 16345,\n",
       " 'event': 8249,\n",
       " 'terribl': 22606,\n",
       " 'mental': 14330,\n",
       " 'passively': 16537,\n",
       " 'suicidal': 22012,\n",
       " 'dramatic': 7310,\n",
       " 'pretty': 17584,\n",
       " 'whenever': 25066,\n",
       " 'killing': 12945,\n",
       " 'range': 18262,\n",
       " 'image': 11592,\n",
       " 'various': 24450,\n",
       " 'cause': 4011,\n",
       " 'currently': 5801,\n",
       " 'carrying': 3934,\n",
       " 'anytime': 1905,\n",
       " 'knowing': 13015,\n",
       " 'ideation': 11502,\n",
       " 'becoming': 2800,\n",
       " 'hospital': 11247,\n",
       " 'alive': 1466,\n",
       " 'usually': 24348,\n",
       " 'painful': 16349,\n",
       " 'terrible': 22607,\n",
       " 'illness': 11578,\n",
       " 'done': 7173,\n",
       " 'yeti': 25549,\n",
       " 'worri': 25348,\n",
       " 'tonight': 23079,\n",
       " 'sad': 19577,\n",
       " 'miss': 14647,\n",
       " 'fulfil': 9673,\n",
       " 'teenag': 22516,\n",
       " 'well': 25009,\n",
       " 'satisfi': 19694,\n",
       " 'mayb': 14158,\n",
       " 'given': 10023,\n",
       " 'real': 18363,\n",
       " 'could': 5411,\n",
       " 'stereotyp': 21614,\n",
       " 'girlfriend': 10008,\n",
       " 'blah': 3116,\n",
       " 'bitch': 3075,\n",
       " 'simpli': 20574,\n",
       " 'hold': 11107,\n",
       " 'guess': 10428,\n",
       " 'relat': 18744,\n",
       " 'worry': 25352,\n",
       " 'missed': 14648,\n",
       " 'fulfilling': 9676,\n",
       " 'teenage': 22517,\n",
       " 'satisfied': 19695,\n",
       " 'maybe': 14159,\n",
       " 'stereotypical': 21617,\n",
       " 'simply': 20582,\n",
       " 'relate': 18746,\n",
       " 'trigger': 23383,\n",
       " 'warn': 24844,\n",
       " 'rrelationship_advic': 19483,\n",
       " 'inspir': 12175,\n",
       " 'rape': 18275,\n",
       " 'moment': 14767,\n",
       " 'cum': 5767,\n",
       " 'dick': 6621,\n",
       " 'warning': 24847,\n",
       " 'rrelationship_advice': 19484,\n",
       " 'inspired': 12179,\n",
       " 'tire': 22974,\n",
       " 'worth': 25368,\n",
       " 'iti': 12573,\n",
       " 'longer': 13630,\n",
       " 'joy': 12770,\n",
       " 'seem': 19970,\n",
       " 'dull': 7439,\n",
       " 'point': 17197,\n",
       " 'rather': 18301,\n",
       " 'bother': 3354,\n",
       " 'movement': 14938,\n",
       " 'swim': 22283,\n",
       " 'sore': 21147,\n",
       " 'close': 4553,\n",
       " 'brain': 3415,\n",
       " 'small': 20835,\n",
       " 'bad': 2557,\n",
       " 'stand': 21505,\n",
       " 'without': 25262,\n",
       " 'shin': 20341,\n",
       " 'split': 21327,\n",
       " 'middl': 14463,\n",
       " 'crippl': 5614,\n",
       " 'ex': 8317,\n",
       " 'tired': 22975,\n",
       " 'sleeping': 20754,\n",
       " 'seems': 19975,\n",
       " 'dulled': 7440,\n",
       " 'feeling': 8872,\n",
       " 'middle': 14464,\n",
       " 'crippling': 5617,\n",
       " 'covid': 5476,\n",
       " 'stuck': 21837,\n",
       " 'birthday': 3064,\n",
       " 'darker': 5942,\n",
       " 'liter': 13506,\n",
       " 'turn': 23514,\n",
       " '20': 329,\n",
       " '2021': 367,\n",
       " 'februari': 8851,\n",
       " 'memori': 14313,\n",
       " 'movi': 14939,\n",
       " 'race': 18171,\n",
       " 'stripe': 21800,\n",
       " 'honest': 11165,\n",
       " 'mischiev': 14605,\n",
       " 'sit': 20633,\n",
       " 'ran': 18253,\n",
       " 'cinema': 4396,\n",
       " 'grab': 10207,\n",
       " 'arm': 2088,\n",
       " 'cri': 5594,\n",
       " 'car': 3884,\n",
       " 'lock': 13583,\n",
       " 'insid': 12153,\n",
       " 'finish': 9056,\n",
       " 'window': 25210,\n",
       " 'open': 15941,\n",
       " 'disciplin': 6803,\n",
       " 'rememb': 18834,\n",
       " 'plaster': 17069,\n",
       " 'concret': 4987,\n",
       " 'belt': 2902,\n",
       " 'mark': 14042,\n",
       " 'scream': 19859,\n",
       " 'dare': 5936,\n",
       " 'promis': 17768,\n",
       " 'relax': 18755,\n",
       " 'tv': 23526,\n",
       " 'spend': 21273,\n",
       " 'none': 15470,\n",
       " 'text': 22650,\n",
       " 'happi': 10629,\n",
       " '2018': 357,\n",
       " 'last': 13126,\n",
       " 'heard': 10789,\n",
       " 'id': 11487,\n",
       " 'card': 3890,\n",
       " 'display': 6946,\n",
       " 'popular': 17284,\n",
       " 'chat': 4186,\n",
       " 'knew': 12998,\n",
       " 'fill': 8988,\n",
       " 'swear': 22249,\n",
       " 'violenc': 24623,\n",
       " 'angri': 1716,\n",
       " 'brought': 3545,\n",
       " 'harm': 10673,\n",
       " 'burn': 3675,\n",
       " 'tie': 22892,\n",
       " 'fish': 9094,\n",
       " 'tank': 22412,\n",
       " 'tube': 23482,\n",
       " 'stick': 21632,\n",
       " 'whip': 25096,\n",
       " 'meant': 14196,\n",
       " 'univers': 23993,\n",
       " 'fail': 8665,\n",
       " 'repeat': 18893,\n",
       " 'wast': 24871,\n",
       " 'money': 14787,\n",
       " 'determin': 6525,\n",
       " 'drive': 7362,\n",
       " 'count': 5426,\n",
       " 'till': 22915,\n",
       " 'demon': 6302,\n",
       " 'win': 25203,\n",
       " '21': 394,\n",
       " 'literally': 13509,\n",
       " 'turning': 23518,\n",
       " 'february': 8852,\n",
       " 'memory': 14319,\n",
       " 'movie': 14940,\n",
       " 'racing': 18176,\n",
       " 'mischievous': 14606,\n",
       " 'grabbed': 10208,\n",
       " 'pulled': 17963,\n",
       " 'yelling': 25536,\n",
       " 'cry': 5714,\n",
       " 'locked': 13585,\n",
       " 'inside': 12154,\n",
       " 'sitting': 20641,\n",
       " 'opened': 15942,\n",
       " 'disciplined': 6807,\n",
       " 'remembered': 18836,\n",
       " 'concrete': 4988,\n",
       " 'promise': 17771,\n",
       " 'carry': 3933,\n",
       " 'helping': 10893,\n",
       " 'called': 3781,\n",
       " 'texted': 22654,\n",
       " 'happy': 10638,\n",
       " 'wished': 25239,\n",
       " 'filled': 8990,\n",
       " 'swearing': 22250,\n",
       " 'violence': 24624,\n",
       " 'angry': 1720,\n",
       " 'harming': 10677,\n",
       " 'tied': 22893,\n",
       " 'whipped': 25098,\n",
       " 'university': 23997,\n",
       " 'failed': 8666,\n",
       " 'repeating': 18897,\n",
       " 'wasting': 24876,\n",
       " 'determination': 6526,\n",
       " 'counting': 5439,\n",
       " 'extrem': 8587,\n",
       " 'junior': 12819,\n",
       " 'wors': 25354,\n",
       " 'major': 13907,\n",
       " 'effort': 7659,\n",
       " 'grade': 10215,\n",
       " 'mostli': 14885,\n",
       " 'break': 3453,\n",
       " 'sob': 20981,\n",
       " 'deepli': 6142,\n",
       " 'cold': 4670,\n",
       " 'distant': 7018,\n",
       " 'asham': 2169,\n",
       " 'exist': 8442,\n",
       " 'strive': 21805,\n",
       " 'traumat': 23306,\n",
       " 'noth': 15558,\n",
       " 'interest': 12283,\n",
       " 'secretli': 19940,\n",
       " 'scoff': 19818,\n",
       " 'weak': 24917,\n",
       " 'vulner': 24736,\n",
       " 'perhap': 16748,\n",
       " 'partial': 16491,\n",
       " 'desir': 6455,\n",
       " 'relationship': 18751,\n",
       " 'smile': 20860,\n",
       " 'guilt': 10444,\n",
       " 'produc': 17707,\n",
       " 'potenti': 17370,\n",
       " 'aw': 2463,\n",
       " 'legal': 13248,\n",
       " 'connect': 5081,\n",
       " 'enjoy': 7993,\n",
       " 'anim': 1729,\n",
       " 'psychopath': 17917,\n",
       " 'label': 13047,\n",
       " 'follow': 9296,\n",
       " 'leav': 13221,\n",
       " 'worthwhil': 25373,\n",
       " 'hang': 10607,\n",
       " 'hope': 11193,\n",
       " 'chang': 4133,\n",
       " 'forev': 9360,\n",
       " 'exhaust': 8427,\n",
       " 'extremely': 8589,\n",
       " 'worse': 25355,\n",
       " 'mostly': 14886,\n",
       " 'sobbing': 20983,\n",
       " 'deeply': 6143,\n",
       " 'ashamed': 2170,\n",
       " 'failing': 8669,\n",
       " 'existence': 8446,\n",
       " 'traumatic': 23307,\n",
       " 'nothing': 15561,\n",
       " 'interesting': 12285,\n",
       " 'talking': 22395,\n",
       " 'secretly': 19941,\n",
       " 'weakness': 24929,\n",
       " 'vulnerable': 24738,\n",
       " 'perhaps': 16749,\n",
       " 'partially': 16492,\n",
       " 'desire': 6457,\n",
       " 'smiling': 20863,\n",
       " 'producing': 17711,\n",
       " 'potential': 17371,\n",
       " 'awful': 2483,\n",
       " 'connection': 5085,\n",
       " 'asking': 2182,\n",
       " 'hurting': 11394,\n",
       " 'animal': 1730,\n",
       " 'diagnose': 6593,\n",
       " 'following': 9299,\n",
       " 'leave': 13222,\n",
       " 'worthwhile': 25374,\n",
       " 'anyways': 1909,\n",
       " 'change': 4134,\n",
       " 'forever': 9361,\n",
       " 'exhausted': 8428,\n",
       " 'futurei': 9757,\n",
       " 'mani': 13975,\n",
       " 'happen': 10622,\n",
       " 'doom': 7192,\n",
       " 'fate': 8798,\n",
       " 'struggled': 21826,\n",
       " ...}"
      ]
     },
     "execution_count": 8,
     "metadata": {},
     "output_type": "execute_result"
    }
   ],
   "source": [
    "tfidf.vocabulary_"
   ]
  },
  {
   "cell_type": "code",
   "execution_count": null,
   "metadata": {
    "colab": {
     "base_uri": "https://localhost:8080/",
     "height": 468
    },
    "id": "jaJnIYIq0L2s",
    "outputId": "7e31f30f-f789-4f5e-e224-8d7e49ddd4cf"
   },
   "outputs": [
    {
     "data": {
      "text/html": [
       "\n",
       "  <div id=\"df-606d066c-d8d5-4349-88f0-1175a57d1a81\">\n",
       "    <div class=\"colab-df-container\">\n",
       "      <div>\n",
       "<style scoped>\n",
       "    .dataframe tbody tr th:only-of-type {\n",
       "        vertical-align: middle;\n",
       "    }\n",
       "\n",
       "    .dataframe tbody tr th {\n",
       "        vertical-align: top;\n",
       "    }\n",
       "\n",
       "    .dataframe thead th {\n",
       "        text-align: right;\n",
       "    }\n",
       "</style>\n",
       "<table border=\"1\" class=\"dataframe\">\n",
       "  <thead>\n",
       "    <tr style=\"text-align: right;\">\n",
       "      <th></th>\n",
       "      <th>0</th>\n",
       "      <th>1</th>\n",
       "      <th>2</th>\n",
       "      <th>3</th>\n",
       "      <th>4</th>\n",
       "      <th>5</th>\n",
       "      <th>6</th>\n",
       "      <th>7</th>\n",
       "      <th>8</th>\n",
       "      <th>9</th>\n",
       "      <th>...</th>\n",
       "      <th>3232</th>\n",
       "      <th>3233</th>\n",
       "      <th>3234</th>\n",
       "      <th>3235</th>\n",
       "      <th>3236</th>\n",
       "      <th>3237</th>\n",
       "      <th>3238</th>\n",
       "      <th>3239</th>\n",
       "      <th>3240</th>\n",
       "      <th>suicide</th>\n",
       "    </tr>\n",
       "  </thead>\n",
       "  <tbody>\n",
       "    <tr>\n",
       "      <th>0</th>\n",
       "      <td>0.000000</td>\n",
       "      <td>0.0</td>\n",
       "      <td>0.0</td>\n",
       "      <td>0.0</td>\n",
       "      <td>0.0</td>\n",
       "      <td>0.0</td>\n",
       "      <td>0.0</td>\n",
       "      <td>0.0</td>\n",
       "      <td>0.0</td>\n",
       "      <td>0.000000</td>\n",
       "      <td>...</td>\n",
       "      <td>0.0</td>\n",
       "      <td>0.0</td>\n",
       "      <td>0.0</td>\n",
       "      <td>0.0</td>\n",
       "      <td>0.0</td>\n",
       "      <td>0.0</td>\n",
       "      <td>0.0</td>\n",
       "      <td>0.0</td>\n",
       "      <td>0.0</td>\n",
       "      <td>1.0</td>\n",
       "    </tr>\n",
       "    <tr>\n",
       "      <th>1</th>\n",
       "      <td>0.000000</td>\n",
       "      <td>0.0</td>\n",
       "      <td>0.0</td>\n",
       "      <td>0.0</td>\n",
       "      <td>0.0</td>\n",
       "      <td>0.0</td>\n",
       "      <td>0.0</td>\n",
       "      <td>0.0</td>\n",
       "      <td>0.0</td>\n",
       "      <td>0.000000</td>\n",
       "      <td>...</td>\n",
       "      <td>0.0</td>\n",
       "      <td>0.0</td>\n",
       "      <td>0.0</td>\n",
       "      <td>0.0</td>\n",
       "      <td>0.0</td>\n",
       "      <td>0.0</td>\n",
       "      <td>0.0</td>\n",
       "      <td>0.0</td>\n",
       "      <td>0.0</td>\n",
       "      <td>0.0</td>\n",
       "    </tr>\n",
       "    <tr>\n",
       "      <th>2</th>\n",
       "      <td>0.122788</td>\n",
       "      <td>0.0</td>\n",
       "      <td>0.0</td>\n",
       "      <td>0.0</td>\n",
       "      <td>0.0</td>\n",
       "      <td>0.0</td>\n",
       "      <td>0.0</td>\n",
       "      <td>0.0</td>\n",
       "      <td>0.0</td>\n",
       "      <td>0.139551</td>\n",
       "      <td>...</td>\n",
       "      <td>0.0</td>\n",
       "      <td>0.0</td>\n",
       "      <td>0.0</td>\n",
       "      <td>0.0</td>\n",
       "      <td>0.0</td>\n",
       "      <td>0.0</td>\n",
       "      <td>0.0</td>\n",
       "      <td>0.0</td>\n",
       "      <td>0.0</td>\n",
       "      <td>1.0</td>\n",
       "    </tr>\n",
       "    <tr>\n",
       "      <th>3</th>\n",
       "      <td>0.000000</td>\n",
       "      <td>0.0</td>\n",
       "      <td>0.0</td>\n",
       "      <td>0.0</td>\n",
       "      <td>0.0</td>\n",
       "      <td>0.0</td>\n",
       "      <td>0.0</td>\n",
       "      <td>0.0</td>\n",
       "      <td>0.0</td>\n",
       "      <td>0.000000</td>\n",
       "      <td>...</td>\n",
       "      <td>0.0</td>\n",
       "      <td>0.0</td>\n",
       "      <td>0.0</td>\n",
       "      <td>0.0</td>\n",
       "      <td>0.0</td>\n",
       "      <td>0.0</td>\n",
       "      <td>0.0</td>\n",
       "      <td>0.0</td>\n",
       "      <td>0.0</td>\n",
       "      <td>1.0</td>\n",
       "    </tr>\n",
       "    <tr>\n",
       "      <th>4</th>\n",
       "      <td>0.000000</td>\n",
       "      <td>0.0</td>\n",
       "      <td>0.0</td>\n",
       "      <td>0.0</td>\n",
       "      <td>0.0</td>\n",
       "      <td>0.0</td>\n",
       "      <td>0.0</td>\n",
       "      <td>0.0</td>\n",
       "      <td>0.0</td>\n",
       "      <td>0.000000</td>\n",
       "      <td>...</td>\n",
       "      <td>0.0</td>\n",
       "      <td>0.0</td>\n",
       "      <td>0.0</td>\n",
       "      <td>0.0</td>\n",
       "      <td>0.0</td>\n",
       "      <td>0.0</td>\n",
       "      <td>0.0</td>\n",
       "      <td>0.0</td>\n",
       "      <td>0.0</td>\n",
       "      <td>1.0</td>\n",
       "    </tr>\n",
       "    <tr>\n",
       "      <th>...</th>\n",
       "      <td>...</td>\n",
       "      <td>...</td>\n",
       "      <td>...</td>\n",
       "      <td>...</td>\n",
       "      <td>...</td>\n",
       "      <td>...</td>\n",
       "      <td>...</td>\n",
       "      <td>...</td>\n",
       "      <td>...</td>\n",
       "      <td>...</td>\n",
       "      <td>...</td>\n",
       "      <td>...</td>\n",
       "      <td>...</td>\n",
       "      <td>...</td>\n",
       "      <td>...</td>\n",
       "      <td>...</td>\n",
       "      <td>...</td>\n",
       "      <td>...</td>\n",
       "      <td>...</td>\n",
       "      <td>...</td>\n",
       "      <td>...</td>\n",
       "    </tr>\n",
       "    <tr>\n",
       "      <th>195663</th>\n",
       "      <td>0.000000</td>\n",
       "      <td>0.0</td>\n",
       "      <td>0.0</td>\n",
       "      <td>0.0</td>\n",
       "      <td>0.0</td>\n",
       "      <td>0.0</td>\n",
       "      <td>0.0</td>\n",
       "      <td>0.0</td>\n",
       "      <td>0.0</td>\n",
       "      <td>0.000000</td>\n",
       "      <td>...</td>\n",
       "      <td>0.0</td>\n",
       "      <td>0.0</td>\n",
       "      <td>0.0</td>\n",
       "      <td>0.0</td>\n",
       "      <td>0.0</td>\n",
       "      <td>0.0</td>\n",
       "      <td>0.0</td>\n",
       "      <td>0.0</td>\n",
       "      <td>0.0</td>\n",
       "      <td>1.0</td>\n",
       "    </tr>\n",
       "    <tr>\n",
       "      <th>195664</th>\n",
       "      <td>0.000000</td>\n",
       "      <td>0.0</td>\n",
       "      <td>0.0</td>\n",
       "      <td>0.0</td>\n",
       "      <td>0.0</td>\n",
       "      <td>0.0</td>\n",
       "      <td>0.0</td>\n",
       "      <td>0.0</td>\n",
       "      <td>0.0</td>\n",
       "      <td>0.000000</td>\n",
       "      <td>...</td>\n",
       "      <td>0.0</td>\n",
       "      <td>0.0</td>\n",
       "      <td>0.0</td>\n",
       "      <td>0.0</td>\n",
       "      <td>0.0</td>\n",
       "      <td>0.0</td>\n",
       "      <td>0.0</td>\n",
       "      <td>0.0</td>\n",
       "      <td>0.0</td>\n",
       "      <td>0.0</td>\n",
       "    </tr>\n",
       "    <tr>\n",
       "      <th>195665</th>\n",
       "      <td>0.000000</td>\n",
       "      <td>0.0</td>\n",
       "      <td>0.0</td>\n",
       "      <td>0.0</td>\n",
       "      <td>0.0</td>\n",
       "      <td>0.0</td>\n",
       "      <td>0.0</td>\n",
       "      <td>0.0</td>\n",
       "      <td>0.0</td>\n",
       "      <td>0.000000</td>\n",
       "      <td>...</td>\n",
       "      <td>0.0</td>\n",
       "      <td>0.0</td>\n",
       "      <td>0.0</td>\n",
       "      <td>0.0</td>\n",
       "      <td>0.0</td>\n",
       "      <td>0.0</td>\n",
       "      <td>0.0</td>\n",
       "      <td>0.0</td>\n",
       "      <td>0.0</td>\n",
       "      <td>1.0</td>\n",
       "    </tr>\n",
       "    <tr>\n",
       "      <th>195666</th>\n",
       "      <td>0.000000</td>\n",
       "      <td>0.0</td>\n",
       "      <td>0.0</td>\n",
       "      <td>0.0</td>\n",
       "      <td>0.0</td>\n",
       "      <td>0.0</td>\n",
       "      <td>0.0</td>\n",
       "      <td>0.0</td>\n",
       "      <td>0.0</td>\n",
       "      <td>0.000000</td>\n",
       "      <td>...</td>\n",
       "      <td>0.0</td>\n",
       "      <td>0.0</td>\n",
       "      <td>0.0</td>\n",
       "      <td>0.0</td>\n",
       "      <td>0.0</td>\n",
       "      <td>0.0</td>\n",
       "      <td>0.0</td>\n",
       "      <td>0.0</td>\n",
       "      <td>0.0</td>\n",
       "      <td>0.0</td>\n",
       "    </tr>\n",
       "    <tr>\n",
       "      <th>195667</th>\n",
       "      <td>0.000000</td>\n",
       "      <td>0.0</td>\n",
       "      <td>0.0</td>\n",
       "      <td>0.0</td>\n",
       "      <td>0.0</td>\n",
       "      <td>0.0</td>\n",
       "      <td>0.0</td>\n",
       "      <td>0.0</td>\n",
       "      <td>0.0</td>\n",
       "      <td>0.000000</td>\n",
       "      <td>...</td>\n",
       "      <td>0.0</td>\n",
       "      <td>0.0</td>\n",
       "      <td>0.0</td>\n",
       "      <td>0.0</td>\n",
       "      <td>0.0</td>\n",
       "      <td>0.0</td>\n",
       "      <td>0.0</td>\n",
       "      <td>0.0</td>\n",
       "      <td>0.0</td>\n",
       "      <td>0.0</td>\n",
       "    </tr>\n",
       "  </tbody>\n",
       "</table>\n",
       "<p>195668 rows × 3242 columns</p>\n",
       "</div>\n",
       "      <button class=\"colab-df-convert\" onclick=\"convertToInteractive('df-606d066c-d8d5-4349-88f0-1175a57d1a81')\"\n",
       "              title=\"Convert this dataframe to an interactive table.\"\n",
       "              style=\"display:none;\">\n",
       "        \n",
       "  <svg xmlns=\"http://www.w3.org/2000/svg\" height=\"24px\"viewBox=\"0 0 24 24\"\n",
       "       width=\"24px\">\n",
       "    <path d=\"M0 0h24v24H0V0z\" fill=\"none\"/>\n",
       "    <path d=\"M18.56 5.44l.94 2.06.94-2.06 2.06-.94-2.06-.94-.94-2.06-.94 2.06-2.06.94zm-11 1L8.5 8.5l.94-2.06 2.06-.94-2.06-.94L8.5 2.5l-.94 2.06-2.06.94zm10 10l.94 2.06.94-2.06 2.06-.94-2.06-.94-.94-2.06-.94 2.06-2.06.94z\"/><path d=\"M17.41 7.96l-1.37-1.37c-.4-.4-.92-.59-1.43-.59-.52 0-1.04.2-1.43.59L10.3 9.45l-7.72 7.72c-.78.78-.78 2.05 0 2.83L4 21.41c.39.39.9.59 1.41.59.51 0 1.02-.2 1.41-.59l7.78-7.78 2.81-2.81c.8-.78.8-2.07 0-2.86zM5.41 20L4 18.59l7.72-7.72 1.47 1.35L5.41 20z\"/>\n",
       "  </svg>\n",
       "      </button>\n",
       "      \n",
       "  <style>\n",
       "    .colab-df-container {\n",
       "      display:flex;\n",
       "      flex-wrap:wrap;\n",
       "      gap: 12px;\n",
       "    }\n",
       "\n",
       "    .colab-df-convert {\n",
       "      background-color: #E8F0FE;\n",
       "      border: none;\n",
       "      border-radius: 50%;\n",
       "      cursor: pointer;\n",
       "      display: none;\n",
       "      fill: #1967D2;\n",
       "      height: 32px;\n",
       "      padding: 0 0 0 0;\n",
       "      width: 32px;\n",
       "    }\n",
       "\n",
       "    .colab-df-convert:hover {\n",
       "      background-color: #E2EBFA;\n",
       "      box-shadow: 0px 1px 2px rgba(60, 64, 67, 0.3), 0px 1px 3px 1px rgba(60, 64, 67, 0.15);\n",
       "      fill: #174EA6;\n",
       "    }\n",
       "\n",
       "    [theme=dark] .colab-df-convert {\n",
       "      background-color: #3B4455;\n",
       "      fill: #D2E3FC;\n",
       "    }\n",
       "\n",
       "    [theme=dark] .colab-df-convert:hover {\n",
       "      background-color: #434B5C;\n",
       "      box-shadow: 0px 1px 3px 1px rgba(0, 0, 0, 0.15);\n",
       "      filter: drop-shadow(0px 1px 2px rgba(0, 0, 0, 0.3));\n",
       "      fill: #FFFFFF;\n",
       "    }\n",
       "  </style>\n",
       "\n",
       "      <script>\n",
       "        const buttonEl =\n",
       "          document.querySelector('#df-606d066c-d8d5-4349-88f0-1175a57d1a81 button.colab-df-convert');\n",
       "        buttonEl.style.display =\n",
       "          google.colab.kernel.accessAllowed ? 'block' : 'none';\n",
       "\n",
       "        async function convertToInteractive(key) {\n",
       "          const element = document.querySelector('#df-606d066c-d8d5-4349-88f0-1175a57d1a81');\n",
       "          const dataTable =\n",
       "            await google.colab.kernel.invokeFunction('convertToInteractive',\n",
       "                                                     [key], {});\n",
       "          if (!dataTable) return;\n",
       "\n",
       "          const docLinkHtml = 'Like what you see? Visit the ' +\n",
       "            '<a target=\"_blank\" href=https://colab.research.google.com/notebooks/data_table.ipynb>data table notebook</a>'\n",
       "            + ' to learn more about interactive tables.';\n",
       "          element.innerHTML = '';\n",
       "          dataTable['output_type'] = 'display_data';\n",
       "          await google.colab.output.renderOutput(dataTable, element);\n",
       "          const docLink = document.createElement('div');\n",
       "          docLink.innerHTML = docLinkHtml;\n",
       "          element.appendChild(docLink);\n",
       "        }\n",
       "      </script>\n",
       "    </div>\n",
       "  </div>\n",
       "  "
      ],
      "text/plain": [
       "               0    1    2    3    4    5    6    7    8         9  ...  3232  \\\n",
       "0       0.000000  0.0  0.0  0.0  0.0  0.0  0.0  0.0  0.0  0.000000  ...   0.0   \n",
       "1       0.000000  0.0  0.0  0.0  0.0  0.0  0.0  0.0  0.0  0.000000  ...   0.0   \n",
       "2       0.122788  0.0  0.0  0.0  0.0  0.0  0.0  0.0  0.0  0.139551  ...   0.0   \n",
       "3       0.000000  0.0  0.0  0.0  0.0  0.0  0.0  0.0  0.0  0.000000  ...   0.0   \n",
       "4       0.000000  0.0  0.0  0.0  0.0  0.0  0.0  0.0  0.0  0.000000  ...   0.0   \n",
       "...          ...  ...  ...  ...  ...  ...  ...  ...  ...       ...  ...   ...   \n",
       "195663  0.000000  0.0  0.0  0.0  0.0  0.0  0.0  0.0  0.0  0.000000  ...   0.0   \n",
       "195664  0.000000  0.0  0.0  0.0  0.0  0.0  0.0  0.0  0.0  0.000000  ...   0.0   \n",
       "195665  0.000000  0.0  0.0  0.0  0.0  0.0  0.0  0.0  0.0  0.000000  ...   0.0   \n",
       "195666  0.000000  0.0  0.0  0.0  0.0  0.0  0.0  0.0  0.0  0.000000  ...   0.0   \n",
       "195667  0.000000  0.0  0.0  0.0  0.0  0.0  0.0  0.0  0.0  0.000000  ...   0.0   \n",
       "\n",
       "        3233  3234  3235  3236  3237  3238  3239  3240  suicide  \n",
       "0        0.0   0.0   0.0   0.0   0.0   0.0   0.0   0.0      1.0  \n",
       "1        0.0   0.0   0.0   0.0   0.0   0.0   0.0   0.0      0.0  \n",
       "2        0.0   0.0   0.0   0.0   0.0   0.0   0.0   0.0      1.0  \n",
       "3        0.0   0.0   0.0   0.0   0.0   0.0   0.0   0.0      1.0  \n",
       "4        0.0   0.0   0.0   0.0   0.0   0.0   0.0   0.0      1.0  \n",
       "...      ...   ...   ...   ...   ...   ...   ...   ...      ...  \n",
       "195663   0.0   0.0   0.0   0.0   0.0   0.0   0.0   0.0      1.0  \n",
       "195664   0.0   0.0   0.0   0.0   0.0   0.0   0.0   0.0      0.0  \n",
       "195665   0.0   0.0   0.0   0.0   0.0   0.0   0.0   0.0      1.0  \n",
       "195666   0.0   0.0   0.0   0.0   0.0   0.0   0.0   0.0      0.0  \n",
       "195667   0.0   0.0   0.0   0.0   0.0   0.0   0.0   0.0      0.0  \n",
       "\n",
       "[195668 rows x 3242 columns]"
      ]
     },
     "execution_count": 9,
     "metadata": {},
     "output_type": "execute_result"
    }
   ],
   "source": [
    "# procesed_data['suicide'] = y_data\n",
    "# procesed_data"
   ]
  },
  {
   "cell_type": "code",
   "execution_count": 14,
   "metadata": {
    "colab": {
     "base_uri": "https://localhost:8080/"
    },
    "id": "Ra_bXWAV979m",
    "outputId": "d6aa70cc-6c90-4ba3-8eb5-ff1c5d09e476"
   },
   "outputs": [
    {
     "data": {
      "text/plain": [
       "0    110141\n",
       "1     85527\n",
       "Name: class, dtype: int64"
      ]
     },
     "execution_count": 14,
     "metadata": {},
     "output_type": "execute_result"
    }
   ],
   "source": [
    "y_data.value_counts()"
   ]
  },
  {
   "cell_type": "code",
   "execution_count": 15,
   "metadata": {
    "scrolled": true
   },
   "outputs": [
    {
     "data": {
      "text/plain": [
       "(array([110141.,      0.,      0.,      0.,      0.,      0.,      0.,\n",
       "             0.,      0.,  85527.]),\n",
       " array([0. , 0.1, 0.2, 0.3, 0.4, 0.5, 0.6, 0.7, 0.8, 0.9, 1. ]),\n",
       " <BarContainer object of 10 artists>)"
      ]
     },
     "execution_count": 15,
     "metadata": {},
     "output_type": "execute_result"
    },
    {
     "data": {
      "image/png": "[encoded data removed]",
      "text/plain": [
       "<Figure size 432x288 with 1 Axes>"
      ]
     },
     "metadata": {
      "needs_background": "light"
     },
     "output_type": "display_data"
    }
   ],
   "source": [
    "plt.hist(y_data)"
   ]
  },
  {
   "cell_type": "markdown",
   "metadata": {
    "id": "pC3APA5d93ub"
   },
   "source": [
    "# Modelos de clasificación"
   ]
  },
  {
   "cell_type": "markdown",
   "metadata": {},
   "source": [
    "# Naive-Bayes : BernoulliNB"
   ]
  },
  {
   "cell_type": "code",
   "execution_count": 252,
   "metadata": {},
   "outputs": [
    {
     "name": "stdout",
     "output_type": "stream",
     "text": [
      "Fitting 10 folds for each of 10 candidates, totalling 100 fits\n",
      "BernoulliNB(alpha=1e-05)\n"
     ]
    }
   ],
   "source": [
    "# Selección de parámetros\n",
    "parameters = [{'alpha':np.linspace(0.00001,1,10)}]\n",
    "\n",
    "nb = GridSearchCV(estimator=BernoulliNB(), param_grid=parameters, verbose=1, cv=10, n_jobs=-1, scoring='f1')\n",
    "\n",
    "nb.fit(X_train, Y_train)\n",
    "print(nb.best_estimator_)"
   ]
  },
  {
   "cell_type": "code",
   "execution_count": 253,
   "metadata": {
    "id": "_ST9RMzPUTpB"
   },
   "outputs": [
    {
     "data": {
      "text/plain": [
       "array([[20036,  1901],\n",
       "       [ 5538, 11659]])"
      ]
     },
     "execution_count": 253,
     "metadata": {},
     "output_type": "execute_result"
    }
   ],
   "source": [
    "# Determinar las predicciones del modelo sobre el conjunto de prueba\n",
    "y_pred = nb.predict(X_test)\n",
    "\n",
    "# Generar matriz de confusión\n",
    "cm = confusion_matrix(Y_test, y_pred)\n",
    "cm"
   ]
  },
  {
   "cell_type": "code",
   "execution_count": 254,
   "metadata": {},
   "outputs": [
    {
     "data": {
      "text/plain": [
       "<sklearn.metrics._plot.confusion_matrix.ConfusionMatrixDisplay at 0x7f094256db70>"
      ]
     },
     "execution_count": 254,
     "metadata": {},
     "output_type": "execute_result"
    },
    {
     "data": {
      "image/png": "[encoded data removed]",
      "text/plain": [
       "<Figure size 432x288 with 2 Axes>"
      ]
     },
     "metadata": {
      "needs_background": "light"
     },
     "output_type": "display_data"
    }
   ],
   "source": [
    "ConfusionMatrixDisplay.from_estimator(\n",
    "     nb, X_test, Y_test, normalize='true')"
   ]
  },
  {
   "cell_type": "code",
   "execution_count": 255,
   "metadata": {},
   "outputs": [
    {
     "data": {
      "image/png": "[encoded data removed]",
      "text/plain": [
       "<Figure size 432x432 with 2 Axes>"
      ]
     },
     "metadata": {
      "needs_background": "light"
     },
     "output_type": "display_data"
    }
   ],
   "source": [
    "# Normalise\n",
    "cmn = cm.astype('float') / cm.sum(axis=1)[:, np.newaxis]\n",
    "fig, ax = plt.subplots(figsize=(6,6))\n",
    "sns.heatmap(cmn, annot=True, fmt='.2f', xticklabels=['non suicide','suicide'], yticklabels=['non suicide','suicide'])\n",
    "plt.ylabel('Actual')\n",
    "plt.xlabel('Predicted')\n",
    "plt.show()"
   ]
  },
  {
   "cell_type": "code",
   "execution_count": 256,
   "metadata": {
    "colab": {
     "base_uri": "https://localhost:8080/"
    },
    "id": "ZrG7UeIUVoAk",
    "outputId": "88c764ea-ef13-4c6f-e0c7-7f160b9c4768"
   },
   "outputs": [
    {
     "name": "stdout",
     "output_type": "stream",
     "text": [
      "              precision    recall  f1-score   support\n",
      "\n",
      "           0       0.78      0.91      0.84     21937\n",
      "           1       0.86      0.68      0.76     17197\n",
      "\n",
      "    accuracy                           0.81     39134\n",
      "   macro avg       0.82      0.80      0.80     39134\n",
      "weighted avg       0.82      0.81      0.81     39134\n",
      "\n"
     ]
    }
   ],
   "source": [
    "# Mostrar reporte de clasificación\n",
    "\n",
    "print(classification_report(Y_test, y_pred))"
   ]
  },
  {
   "cell_type": "code",
   "execution_count": 257,
   "metadata": {},
   "outputs": [
    {
     "name": "stdout",
     "output_type": "stream",
     "text": [
      "Recall: 0.6779670872826655\n",
      "Precisión: 0.8598082595870207\n",
      "Puntuación F1: 0.7581363592027831\n"
     ]
    }
   ],
   "source": [
    "# Scores modelo general\n",
    "print(\"Recall: {}\".format(recall_score(Y_test,y_pred)))\n",
    "print(\"Precisión: {}\".format(precision_score(Y_test,y_pred)))\n",
    "print(\"Puntuación F1: {}\".format(f1_score(Y_test,y_pred)))"
   ]
  },
  {
   "cell_type": "code",
   "execution_count": 258,
   "metadata": {},
   "outputs": [
    {
     "data": {
      "text/plain": [
       "['BernoulliNB.joblib']"
      ]
     },
     "execution_count": 258,
     "metadata": {},
     "output_type": "execute_result"
    }
   ],
   "source": [
    "from joblib import dump, load\n",
    "dump(nb, 'BernoulliNB.joblib') "
   ]
  },
  {
   "cell_type": "markdown",
   "metadata": {},
   "source": [
    "# Naive-Bayes : MultinomialNB"
   ]
  },
  {
   "cell_type": "code",
   "execution_count": 8,
   "metadata": {
    "id": "6Uk7MiEhTzGG"
   },
   "outputs": [],
   "source": [
    "# Dividir datos en entrenamiento (80%) y test (20%)\n",
    "\n",
    "X_train, X_test, Y_train, Y_test = train_test_split(X_tf_idf, y_data, test_size=0.2, random_state=0)"
   ]
  },
  {
   "cell_type": "code",
   "execution_count": 244,
   "metadata": {},
   "outputs": [
    {
     "name": "stdout",
     "output_type": "stream",
     "text": [
      "Fitting 10 folds for each of 10 candidates, totalling 100 fits\n",
      "MultinomialNB(alpha=0.11112)\n"
     ]
    }
   ],
   "source": [
    "# Selección de parámetros\n",
    "parameters = [{'alpha':np.linspace(0.00001,1,10)}]\n",
    "\n",
    "nbM = GridSearchCV(estimator=MultinomialNB(), param_grid=parameters, verbose=1, cv=10, n_jobs=-1, scoring='f1')\n",
    "\n",
    "nbM.fit(X_train, Y_train)\n",
    "print(nbM.best_estimator_)"
   ]
  },
  {
   "cell_type": "code",
   "execution_count": 245,
   "metadata": {},
   "outputs": [
    {
     "data": {
      "text/plain": [
       "array([[19647,  2290],\n",
       "       [ 1023, 16174]])"
      ]
     },
     "execution_count": 245,
     "metadata": {},
     "output_type": "execute_result"
    }
   ],
   "source": [
    "# Determinar las predicciones del modelo sobre el conjunto de prueba\n",
    "y_pred = nbM.predict(X_test)\n",
    "\n",
    "# Generar matriz de confusión\n",
    "cm = confusion_matrix(Y_test, y_pred)\n",
    "cm"
   ]
  },
  {
   "cell_type": "code",
   "execution_count": 246,
   "metadata": {},
   "outputs": [
    {
     "data": {
      "text/plain": [
       "<sklearn.metrics._plot.confusion_matrix.ConfusionMatrixDisplay at 0x7f08ce200748>"
      ]
     },
     "execution_count": 246,
     "metadata": {},
     "output_type": "execute_result"
    },
    {
     "data": {
      "image/png": "[encoded data removed]",
      "text/plain": [
       "<Figure size 432x288 with 2 Axes>"
      ]
     },
     "metadata": {
      "needs_background": "light"
     },
     "output_type": "display_data"
    }
   ],
   "source": [
    "ConfusionMatrixDisplay.from_estimator(\n",
    "     nbM, X_test, Y_test, normalize='true')"
   ]
  },
  {
   "cell_type": "code",
   "execution_count": 248,
   "metadata": {},
   "outputs": [
    {
     "data": {
      "image/png": "[encoded data removed]",
      "text/plain": [
       "<Figure size 432x432 with 2 Axes>"
      ]
     },
     "metadata": {
      "needs_background": "light"
     },
     "output_type": "display_data"
    }
   ],
   "source": [
    "# Normalise\n",
    "cmn = cm.astype('float') / cm.sum(axis=1)[:, np.newaxis]\n",
    "fig, ax = plt.subplots(figsize=(6,6))\n",
    "sns.heatmap(cmn, annot=True, fmt='.2f', xticklabels=['non suicide','suicide'], yticklabels=['non suicide','suicide'])\n",
    "plt.ylabel('Actual')\n",
    "plt.xlabel('Predicted')\n",
    "plt.show()"
   ]
  },
  {
   "cell_type": "code",
   "execution_count": 249,
   "metadata": {},
   "outputs": [
    {
     "name": "stdout",
     "output_type": "stream",
     "text": [
      "              precision    recall  f1-score   support\n",
      "\n",
      "           0       0.95      0.90      0.92     21937\n",
      "           1       0.88      0.94      0.91     17197\n",
      "\n",
      "    accuracy                           0.92     39134\n",
      "   macro avg       0.91      0.92      0.91     39134\n",
      "weighted avg       0.92      0.92      0.92     39134\n",
      "\n"
     ]
    }
   ],
   "source": [
    "# Mostrar reporte de clasificación\n",
    "\n",
    "print(classification_report(Y_test, y_pred))"
   ]
  },
  {
   "cell_type": "code",
   "execution_count": 250,
   "metadata": {},
   "outputs": [
    {
     "name": "stdout",
     "output_type": "stream",
     "text": [
      "Recall: 0.9405128801535152\n",
      "Precisión: 0.875974870017331\n",
      "Puntuación F1: 0.9070973893048427\n"
     ]
    }
   ],
   "source": [
    "# Scores modelo general\n",
    "print(\"Recall: {}\".format(recall_score(Y_test,y_pred)))\n",
    "print(\"Precisión: {}\".format(precision_score(Y_test,y_pred)))\n",
    "print(\"Puntuación F1: {}\".format(f1_score(Y_test,y_pred)))"
   ]
  },
  {
   "cell_type": "code",
   "execution_count": 251,
   "metadata": {},
   "outputs": [
    {
     "data": {
      "text/plain": [
       "['MultinomialNB.joblib']"
      ]
     },
     "execution_count": 251,
     "metadata": {},
     "output_type": "execute_result"
    }
   ],
   "source": [
    "from joblib import dump, load\n",
    "dump(nb, 'MultinomialNB.joblib') "
   ]
  },
  {
   "cell_type": "markdown",
   "metadata": {},
   "source": [
    "#  Support Vector Machine - LinearSVC"
   ]
  },
  {
   "cell_type": "code",
   "execution_count": 269,
   "metadata": {},
   "outputs": [
    {
     "name": "stdout",
     "output_type": "stream",
     "text": [
      "Fitting 5 folds for each of 10 candidates, totalling 50 fits\n",
      "LinearSVC(C=1.12)\n"
     ]
    }
   ],
   "source": [
    "# Selección de parámetros\n",
    "parameters = [{'C':np.linspace(0.01,10,10)}]\n",
    "\n",
    "svm = GridSearchCV(estimator=LinearSVC(), param_grid=parameters, verbose=1, cv=5, n_jobs=-1, scoring='recall')\n",
    "\n",
    "svm.fit(X_train, Y_train)\n",
    "print(svm.best_estimator_)"
   ]
  },
  {
   "cell_type": "code",
   "execution_count": 270,
   "metadata": {},
   "outputs": [
    {
     "data": {
      "text/plain": [
       "{'C': 1.12}"
      ]
     },
     "execution_count": 270,
     "metadata": {},
     "output_type": "execute_result"
    }
   ],
   "source": [
    "svm.best_params_"
   ]
  },
  {
   "cell_type": "code",
   "execution_count": 271,
   "metadata": {},
   "outputs": [],
   "source": [
    "# Determinar las predicciones del modelo sobre el conjunto de prueba\n",
    "\n",
    "y_pred = svm.predict(X_test)"
   ]
  },
  {
   "cell_type": "code",
   "execution_count": 272,
   "metadata": {},
   "outputs": [
    {
     "data": {
      "text/plain": [
       "array([[20998,   939],\n",
       "       [ 1402, 15795]])"
      ]
     },
     "execution_count": 272,
     "metadata": {},
     "output_type": "execute_result"
    }
   ],
   "source": [
    "# Generar matriz de confusión\n",
    "cm = confusion_matrix(Y_test, y_pred)\n",
    "cm"
   ]
  },
  {
   "cell_type": "code",
   "execution_count": 97,
   "metadata": {},
   "outputs": [
    {
     "data": {
      "text/plain": [
       "<sklearn.metrics._plot.confusion_matrix.ConfusionMatrixDisplay at 0x7f09437d2a90>"
      ]
     },
     "execution_count": 97,
     "metadata": {},
     "output_type": "execute_result"
    },
    {
     "data": {
      "image/png": "[encoded data removed]",
      "text/plain": [
       "<Figure size 432x288 with 2 Axes>"
      ]
     },
     "metadata": {
      "needs_background": "light"
     },
     "output_type": "display_data"
    }
   ],
   "source": [
    "ConfusionMatrixDisplay.from_estimator(\n",
    "     svm, X_test, Y_test, normalize='true')"
   ]
  },
  {
   "cell_type": "code",
   "execution_count": 273,
   "metadata": {
    "scrolled": false
   },
   "outputs": [
    {
     "data": {
      "image/png": "[encoded data removed]",
      "text/plain": [
       "<Figure size 432x432 with 2 Axes>"
      ]
     },
     "metadata": {
      "needs_background": "light"
     },
     "output_type": "display_data"
    }
   ],
   "source": [
    "# Normalise\n",
    "cmn = cm.astype('float') / cm.sum(axis=1)[:, np.newaxis]\n",
    "fig, ax = plt.subplots(figsize=(6,6))\n",
    "sns.heatmap(cmn, annot=True, fmt='.2f', xticklabels=['non suicide','suicide'], \\\n",
    "            yticklabels=['non suicide','suicide'])\n",
    "plt.ylabel('Actual')\n",
    "plt.xlabel('Predicted')\n",
    "plt.show()"
   ]
  },
  {
   "cell_type": "code",
   "execution_count": 88,
   "metadata": {},
   "outputs": [
    {
     "name": "stdout",
     "output_type": "stream",
     "text": [
      "              precision    recall  f1-score   support\n",
      "\n",
      "           0       0.94      0.96      0.95     21937\n",
      "           1       0.94      0.92      0.93     17197\n",
      "\n",
      "    accuracy                           0.94     39134\n",
      "   macro avg       0.94      0.94      0.94     39134\n",
      "weighted avg       0.94      0.94      0.94     39134\n",
      "\n"
     ]
    }
   ],
   "source": [
    "# Mostrar reporte de clasificación\n",
    "\n",
    "print(classification_report(Y_test, y_pred))"
   ]
  },
  {
   "cell_type": "code",
   "execution_count": 89,
   "metadata": {},
   "outputs": [
    {
     "name": "stdout",
     "output_type": "stream",
     "text": [
      "Recall: 0.9184741524684538\n",
      "Precisión: 0.9438866977411259\n",
      "Puntuación F1: 0.9310070437063452\n"
     ]
    }
   ],
   "source": [
    "# Scores modelo general\n",
    "print(\"Recall: {}\".format(recall_score(Y_test,y_pred)))\n",
    "print(\"Precisión: {}\".format(precision_score(Y_test,y_pred)))\n",
    "print(\"Puntuación F1: {}\".format(f1_score(Y_test,y_pred)))"
   ]
  },
  {
   "cell_type": "code",
   "execution_count": 113,
   "metadata": {},
   "outputs": [
    {
     "data": {
      "text/plain": [
       "['linearSVC.joblib']"
      ]
     },
     "execution_count": 113,
     "metadata": {},
     "output_type": "execute_result"
    }
   ],
   "source": [
    "from joblib import dump, load\n",
    "dump(svm, 'linearSVC.joblib') "
   ]
  },
  {
   "cell_type": "markdown",
   "metadata": {},
   "source": [
    "## Feature importances"
   ]
  },
  {
   "cell_type": "code",
   "execution_count": 193,
   "metadata": {},
   "outputs": [],
   "source": [
    "ind, names = zip(*sorted(zip(tfidf.vocabulary_.values(),tfidf.vocabulary_.keys())))\n",
    "names=list(names)"
   ]
  },
  {
   "cell_type": "code",
   "execution_count": 262,
   "metadata": {},
   "outputs": [],
   "source": [
    "impSVM_ = list(svm.best_estimator_.coef_[0])\n",
    "impNB_ = list(nb.best_estimator_.coef_[0])\n",
    "impNBM_ = list(nbM.best_estimator_.coef_[0])"
   ]
  },
  {
   "cell_type": "code",
   "execution_count": 264,
   "metadata": {},
   "outputs": [],
   "source": [
    "impNB,namesNB = zip(*sorted(zip(impNB_,names)))\n",
    "impSVM,namesSVM = zip(*sorted(zip(impSVM_,names)))\n",
    "impNBM,namesNBM = zip(*sorted(zip(impNBM_,names)))"
   ]
  },
  {
   "cell_type": "code",
   "execution_count": 265,
   "metadata": {},
   "outputs": [
    {
     "name": "stdout",
     "output_type": "stream",
     "text": [
      "('kill', 'realli', 'really', 'suicid', 'make', 'friend', 'thing', 'live', 'peopl', 'people', 'year', 'tri', 'going', 'even', 'one', 'think', 'time', 'would', 'get', 'life', 'know', 'like', 'feel', 'go', 'want')\n",
      "('thought', 'make', 'end', 'much', 'live', 'day', 'never', 'die', 'help', 'kill', 'thing', 'friend', 'year', 'one', 'think', 'even', 'time', 'go', 'get', 'would', 'like', 'know', 'life', 'feel', 'want')\n",
      "('upi', 'worldi', 'shiti', 'alonei', 'sw', 'herei', 'suicide', 'suicidali', 'suicidal', 'kill', 'friendi', 'thisi', 'todayi', 'donei', 'suicidei', 'retard', 'doi', 'lifei', 'diei', 'mei', 'helpi', 'myselfi', 'iti', 'anymorei', 'suicid')\n"
     ]
    }
   ],
   "source": [
    "print(namesNB[-25:])\n",
    "print(namesNBM[-25:])\n",
    "print(namesSVM[-25:])"
   ]
  },
  {
   "cell_type": "code",
   "execution_count": 236,
   "metadata": {},
   "outputs": [
    {
     "data": {
      "image/png": "[encoded data removed]",
      "text/plain": [
       "<Figure size 432x432 with 1 Axes>"
      ]
     },
     "metadata": {
      "needs_background": "light"
     },
     "output_type": "display_data"
    },
    {
     "name": "stdout",
     "output_type": "stream",
     "text": [
      "('kill', 'realli', 'really', 'suicid', 'make', 'friend', 'thing', 'live', 'peopl', 'people', 'year', 'tri', 'going', 'even', 'one', 'think', 'time', 'would', 'get', 'life', 'know', 'like', 'feel', 'go', 'want')\n",
      "[-1.2269 -1.1933 -1.1933 -1.1725 -1.1653 -1.1561 -1.1416 -1.1331 -1.128\n",
      " -1.128  -1.1179 -1.1082 -1.0651 -1.0503 -1.0307 -0.9907 -0.976  -0.9567\n",
      " -0.7905 -0.7523 -0.7242 -0.7008 -0.6866 -0.6851 -0.5429]\n"
     ]
    }
   ],
   "source": [
    "def f_importances(coef, names_, n):\n",
    "    fig, ax = plt.subplots(figsize=(6,6))\n",
    "    imp = coef\n",
    "    imp,names1 = zip(*sorted(zip(imp,names_)))\n",
    "    plt.barh(range(len(names1[n:])), imp[n:], align='center')\n",
    "    plt.yticks(range(len(names1[n:])), names1[n:])\n",
    "    plt.show()\n",
    "    print(names1[n:])\n",
    "    print(np.round(imp[n:],4))\n",
    "    return np.round(imp,4), names1\n",
    "\n",
    "impNB,namesNB = f_importances(impNB_, names,-25)"
   ]
  },
  {
   "cell_type": "code",
   "execution_count": 266,
   "metadata": {},
   "outputs": [
    {
     "data": {
      "image/png": "[encoded data removed]",
      "text/plain": [
       "<Figure size 432x432 with 1 Axes>"
      ]
     },
     "metadata": {
      "needs_background": "light"
     },
     "output_type": "display_data"
    },
    {
     "name": "stdout",
     "output_type": "stream",
     "text": [
      "('thought', 'make', 'end', 'much', 'live', 'day', 'never', 'die', 'help', 'kill', 'thing', 'friend', 'year', 'one', 'think', 'even', 'time', 'go', 'get', 'would', 'like', 'know', 'life', 'feel', 'want')\n",
      "[-5.7694 -5.7033 -5.687  -5.6796 -5.6638 -5.6496 -5.6343 -5.595  -5.5706\n",
      " -5.5597 -5.5587 -5.4814 -5.4741 -5.4591 -5.4549 -5.43   -5.3817 -5.371\n",
      " -5.2582 -5.2016 -5.0749 -5.0623 -5.0032 -4.8772 -4.7686]\n"
     ]
    }
   ],
   "source": [
    "impNBM,namesNBM = f_importances(impNBM_, names,-25)"
   ]
  },
  {
   "cell_type": "code",
   "execution_count": 237,
   "metadata": {},
   "outputs": [
    {
     "data": {
      "image/png": "[encoded data removed]",
      "text/plain": [
       "<Figure size 432x432 with 1 Axes>"
      ]
     },
     "metadata": {
      "needs_background": "light"
     },
     "output_type": "display_data"
    },
    {
     "name": "stdout",
     "output_type": "stream",
     "text": [
      "('upi', 'worldi', 'shiti', 'alonei', 'sw', 'herei', 'suicide', 'suicidali', 'suicidal', 'kill', 'friendi', 'thisi', 'todayi', 'donei', 'suicidei', 'retard', 'doi', 'lifei', 'diei', 'mei', 'helpi', 'myselfi', 'iti', 'anymorei', 'suicid')\n",
      "[2.8929 2.9243 2.9269 2.9819 3.0181 3.0382 3.0954 3.108  3.1116 3.2643\n",
      " 3.2645 3.4051 3.4159 3.5779 3.6724 3.724  3.8767 3.9626 4.3342 4.3449\n",
      " 4.3456 4.3995 4.5933 4.6734 4.8842]\n"
     ]
    }
   ],
   "source": [
    "impSVM,namesSVM = f_importances(impSVM_, names,-25)"
   ]
  },
  {
   "cell_type": "code",
   "execution_count": 267,
   "metadata": {},
   "outputs": [
    {
     "data": {
      "text/plain": [
       "((-2.405531688611753,\n",
       "  -2.3033298649403884,\n",
       "  -2.272593790606264,\n",
       "  -2.258056237950081,\n",
       "  -2.222284961158602,\n",
       "  -2.1647238505679933,\n",
       "  -2.162769444416735,\n",
       "  -2.155831737098275,\n",
       "  -2.1543625799572896,\n",
       "  -2.1537674832721723),\n",
       " (-22.64502965303775,\n",
       "  -22.64502965303775,\n",
       "  -22.64502965303775,\n",
       "  -22.64502965303775,\n",
       "  -22.64502965303775,\n",
       "  -22.64502965303775,\n",
       "  -22.64502965303775,\n",
       "  -22.64502965303775,\n",
       "  -22.64502965303775,\n",
       "  -22.64502965303775),\n",
       " array([-15.3345, -15.3345, -15.3345, -15.3345, -15.3345, -15.3345,\n",
       "        -15.3345, -15.3345, -15.3345, -15.3345]))"
      ]
     },
     "execution_count": 267,
     "metadata": {},
     "output_type": "execute_result"
    }
   ],
   "source": [
    "impSVM[:10],impNB[:10], impNBM[:10]"
   ]
  }
 ],
 "metadata": {
  "colab": {
   "machine_shape": "hm",
   "provenance": []
  },
  "kernelspec": {
   "display_name": "Python 3 (ipykernel)",
   "language": "python",
   "name": "python3"
  },
  "language_info": {
   "codemirror_mode": {
    "name": "ipython",
    "version": 3
   },
   "file_extension": ".py",
   "mimetype": "text/x-python",
   "name": "python",
   "nbconvert_exporter": "python",
   "pygments_lexer": "ipython3",
   "version": "3.9.12"
  }
 },
 "nbformat": 4,
 "nbformat_minor": 1
}
